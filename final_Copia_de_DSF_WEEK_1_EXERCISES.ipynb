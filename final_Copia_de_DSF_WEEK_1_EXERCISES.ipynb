{
  "nbformat": 4,
  "nbformat_minor": 0,
  "metadata": {
    "colab": {
      "name": "Copia de DSF_WEEK_1_EXERCISES.ipynb",
      "provenance": [],
      "collapsed_sections": []
    },
    "kernelspec": {
      "name": "python3",
      "display_name": "Python 3"
    }
  },
  "cells": [
    {
      "cell_type": "markdown",
      "metadata": {
        "id": "_a2hajcA99-K",
        "colab_type": "text"
      },
      "source": [
        "![BTS](https://github.com/vfp1/bts-mbds-data-science-foundations-2019/blob/master/sessions/img/Logo-BTS.jpg?raw=1)\n",
        "\n",
        "# WEEK 1: Assignements\n",
        "\n",
        "### Victor F. Pajuelo Madrigal <victor.pajuelo@bts.tech> - Data Science Foundations (WEEK 1)\n",
        "\n",
        "Open this notebook in Google Colaboratory: [![Open in Colab](https://colab.research.google.com/assets/colab-badge.svg)](https://colab.research.google.com/github/vfp1/bts-mbds-data-science-foundations-2019/blob/master/sessions/DSF_WEEK_1_EXERCISES.ipynb)"
      ]
    },
    {
      "cell_type": "markdown",
      "metadata": {
        "id": "HCvH2cLM_1Cq",
        "colab_type": "text"
      },
      "source": [
        "# Exercise 1: slicing arrays [OPTIONAL]\n",
        "\n",
        "Given the array provided in the next cell. Do the following with slicing (check the other notebooks for examples)\n",
        "\n",
        "\n",
        "\n",
        "*   Print the whole array using slice\n",
        "*   Print number 12\n",
        "*   Reverse the array\n",
        "*   Reverse only one row in the array\n",
        "*   Slice the first three columns in the array\n",
        "*   Slice the last three columns and reverse them\n",
        "*   Slice the last two rows and print them\n",
        "*   Slice the last integers in a row\n",
        "*   Slice rows and columns\n",
        "\n",
        "\n",
        "[Here](https://machinelearningmastery.com/index-slice-reshape-numpy-arrays-machine-learning-python/) some good examples ;-)\n",
        "\n",
        "\n",
        "\n"
      ]
    },
    {
      "cell_type": "code",
      "metadata": {
        "id": "ksQUFmu3-HKl",
        "colab_type": "code",
        "outputId": "cd957b2c-e4d5-4cf1-adde-c4a2ae633b20",
        "colab": {
          "base_uri": "https://localhost:8080/",
          "height": 85
        }
      },
      "source": [
        "import numpy as np\n",
        "\n",
        "a = [[1, 2, 3, 4, 5], [6, 7, 8, 9, 10], [11, 12, 13, 14, 15], [16, 17, 18, 19, 20]]\n",
        "nd_a = np.array(a)\n",
        "nd_a"
      ],
      "execution_count": 0,
      "outputs": [
        {
          "output_type": "execute_result",
          "data": {
            "text/plain": [
              "array([[ 1,  2,  3,  4,  5],\n",
              "       [ 6,  7,  8,  9, 10],\n",
              "       [11, 12, 13, 14, 15],\n",
              "       [16, 17, 18, 19, 20]])"
            ]
          },
          "metadata": {
            "tags": []
          },
          "execution_count": 1
        }
      ]
    },
    {
      "cell_type": "code",
      "metadata": {
        "id": "i4LfBd0aEsim",
        "colab_type": "code",
        "outputId": "71ecd372-50ff-4d7d-8a1a-bffca1145cbd",
        "colab": {
          "base_uri": "https://localhost:8080/",
          "height": 85
        }
      },
      "source": [
        "nd_a"
      ],
      "execution_count": 0,
      "outputs": [
        {
          "output_type": "execute_result",
          "data": {
            "text/plain": [
              "array([[ 1,  2,  3,  4,  5],\n",
              "       [ 6,  7,  8,  9, 10],\n",
              "       [11, 12, 13, 14, 15],\n",
              "       [16, 17, 18, 19, 20]])"
            ]
          },
          "metadata": {
            "tags": []
          },
          "execution_count": 2
        }
      ]
    },
    {
      "cell_type": "code",
      "metadata": {
        "id": "P93BilJqFEcd",
        "colab_type": "code",
        "outputId": "f3859032-aa0f-42bc-d033-561f3ded4242",
        "colab": {
          "base_uri": "https://localhost:8080/",
          "height": 34
        }
      },
      "source": [
        "nd_a[2,1]"
      ],
      "execution_count": 0,
      "outputs": [
        {
          "output_type": "execute_result",
          "data": {
            "text/plain": [
              "12"
            ]
          },
          "metadata": {
            "tags": []
          },
          "execution_count": 4
        }
      ]
    },
    {
      "cell_type": "code",
      "metadata": {
        "id": "hgnP4H3AGZQ8",
        "colab_type": "code",
        "outputId": "07eddef7-497b-4ab2-e8be-307774287a69",
        "colab": {
          "base_uri": "https://localhost:8080/",
          "height": 85
        }
      },
      "source": [
        "nd_a[::-1,::-1]"
      ],
      "execution_count": 0,
      "outputs": [
        {
          "output_type": "execute_result",
          "data": {
            "text/plain": [
              "array([[20, 19, 18, 17, 16],\n",
              "       [15, 14, 13, 12, 11],\n",
              "       [10,  9,  8,  7,  6],\n",
              "       [ 5,  4,  3,  2,  1]])"
            ]
          },
          "metadata": {
            "tags": []
          },
          "execution_count": 14
        }
      ]
    },
    {
      "cell_type": "code",
      "metadata": {
        "id": "A_-lPslUGwyt",
        "colab_type": "code",
        "outputId": "2af22aec-eeaf-423e-cbb2-5102175c23c8",
        "colab": {
          "base_uri": "https://localhost:8080/",
          "height": 34
        }
      },
      "source": [
        "nd_a[1,::-1]"
      ],
      "execution_count": 0,
      "outputs": [
        {
          "output_type": "execute_result",
          "data": {
            "text/plain": [
              "array([10,  9,  8,  7,  6])"
            ]
          },
          "metadata": {
            "tags": []
          },
          "execution_count": 17
        }
      ]
    },
    {
      "cell_type": "code",
      "metadata": {
        "id": "RWuIpFVHHANT",
        "colab_type": "code",
        "outputId": "86f9a3c1-0ee5-4cea-d865-90024a956392",
        "colab": {
          "base_uri": "https://localhost:8080/",
          "height": 85
        }
      },
      "source": [
        "nd_a[:,:3]"
      ],
      "execution_count": 0,
      "outputs": [
        {
          "output_type": "execute_result",
          "data": {
            "text/plain": [
              "array([[ 1,  2,  3],\n",
              "       [ 6,  7,  8],\n",
              "       [11, 12, 13],\n",
              "       [16, 17, 18]])"
            ]
          },
          "metadata": {
            "tags": []
          },
          "execution_count": 20
        }
      ]
    },
    {
      "cell_type": "code",
      "metadata": {
        "id": "4iLmLeZrHMfL",
        "colab_type": "code",
        "outputId": "6e1fcd0e-fbbc-42c6-e488-3a771af4441b",
        "colab": {
          "base_uri": "https://localhost:8080/",
          "height": 85
        }
      },
      "source": [
        "nd_a[:,-1:1:-1]"
      ],
      "execution_count": 0,
      "outputs": [
        {
          "output_type": "execute_result",
          "data": {
            "text/plain": [
              "array([[ 5,  4,  3],\n",
              "       [10,  9,  8],\n",
              "       [15, 14, 13],\n",
              "       [20, 19, 18]])"
            ]
          },
          "metadata": {
            "tags": []
          },
          "execution_count": 79
        }
      ]
    },
    {
      "cell_type": "code",
      "metadata": {
        "id": "bMnrmjbFNVM0",
        "colab_type": "code",
        "outputId": "e3f77556-ad3c-42a9-a5f1-a32a4decc3b0",
        "colab": {
          "base_uri": "https://localhost:8080/",
          "height": 51
        }
      },
      "source": [
        "last_2_rows = nd_a[2:4,:]\n",
        "last_2_rows"
      ],
      "execution_count": 0,
      "outputs": [
        {
          "output_type": "execute_result",
          "data": {
            "text/plain": [
              "array([[11, 12, 13, 14, 15],\n",
              "       [16, 17, 18, 19, 20]])"
            ]
          },
          "metadata": {
            "tags": []
          },
          "execution_count": 81
        }
      ]
    },
    {
      "cell_type": "markdown",
      "metadata": {
        "id": "XrA3YsGkQVY4",
        "colab_type": "text"
      },
      "source": [
        "# Exercise 2: when is best to bike alone? [OPTIONAL]\n",
        "\n",
        "Given [this](https://github.com/vfp1/bts-mbds-data-science-foundations-2019/raw/master/sessions/data/Fremont_Bridge_Hourly_Bicycle_Counts_by_Month_October_2012_to_present.csv) dataset:\n",
        "\n",
        "* Open the dataset using Pandas\n",
        "* Display the DataFrame\n",
        "* Reply to the following questions (either by plotting the graph and summarizing the values):\n",
        "\n",
        "    * When are the busiest hours per week in Total?\n",
        "    * Where will you be more comfortable (alone) riding during the week in West or East?\n",
        "    * What about riding during the business days? When and where are the best hours to ride alone between 06:00 and 10:00? And between 15:00 and 20:00"
      ]
    },
    {
      "cell_type": "code",
      "metadata": {
        "id": "3Pb0HxvTPkWy",
        "colab_type": "code",
        "outputId": "a98da21a-1b65-4a77-8f49-b2934655714c",
        "colab": {
          "base_uri": "https://localhost:8080/",
          "height": 204
        }
      },
      "source": [
        "import pandas as pd\n",
        "my_file = pd.read_csv(\"https://raw.githubusercontent.com/vfp1/bts-mbds-data-science-foundations-2019/master/sessions/data/Fremont_Bridge_Hourly_Bicycle_Counts_by_Month_October_2012_to_present.csv\")\n",
        "my_file.head()"
      ],
      "execution_count": 0,
      "outputs": [
        {
          "output_type": "execute_result",
          "data": {
            "text/html": [
              "<div>\n",
              "<style scoped>\n",
              "    .dataframe tbody tr th:only-of-type {\n",
              "        vertical-align: middle;\n",
              "    }\n",
              "\n",
              "    .dataframe tbody tr th {\n",
              "        vertical-align: top;\n",
              "    }\n",
              "\n",
              "    .dataframe thead th {\n",
              "        text-align: right;\n",
              "    }\n",
              "</style>\n",
              "<table border=\"1\" class=\"dataframe\">\n",
              "  <thead>\n",
              "    <tr style=\"text-align: right;\">\n",
              "      <th></th>\n",
              "      <th>Date</th>\n",
              "      <th>Fremont Bridge East Sidewalk</th>\n",
              "      <th>Fremont Bridge West Sidewalk</th>\n",
              "    </tr>\n",
              "  </thead>\n",
              "  <tbody>\n",
              "    <tr>\n",
              "      <th>0</th>\n",
              "      <td>02/24/2015 02:00:00 AM</td>\n",
              "      <td>3.0</td>\n",
              "      <td>3.0</td>\n",
              "    </tr>\n",
              "    <tr>\n",
              "      <th>1</th>\n",
              "      <td>01/01/2019 12:00:00 AM</td>\n",
              "      <td>0.0</td>\n",
              "      <td>9.0</td>\n",
              "    </tr>\n",
              "    <tr>\n",
              "      <th>2</th>\n",
              "      <td>01/01/2019 01:00:00 AM</td>\n",
              "      <td>2.0</td>\n",
              "      <td>22.0</td>\n",
              "    </tr>\n",
              "    <tr>\n",
              "      <th>3</th>\n",
              "      <td>02/15/2016 12:00:00 AM</td>\n",
              "      <td>3.0</td>\n",
              "      <td>3.0</td>\n",
              "    </tr>\n",
              "    <tr>\n",
              "      <th>4</th>\n",
              "      <td>01/01/2019 02:00:00 AM</td>\n",
              "      <td>1.0</td>\n",
              "      <td>11.0</td>\n",
              "    </tr>\n",
              "  </tbody>\n",
              "</table>\n",
              "</div>"
            ],
            "text/plain": [
              "                     Date  ...  Fremont Bridge West Sidewalk\n",
              "0  02/24/2015 02:00:00 AM  ...                           3.0\n",
              "1  01/01/2019 12:00:00 AM  ...                           9.0\n",
              "2  01/01/2019 01:00:00 AM  ...                          22.0\n",
              "3  02/15/2016 12:00:00 AM  ...                           3.0\n",
              "4  01/01/2019 02:00:00 AM  ...                          11.0\n",
              "\n",
              "[5 rows x 3 columns]"
            ]
          },
          "metadata": {
            "tags": []
          },
          "execution_count": 2
        }
      ]
    },
    {
      "cell_type": "code",
      "metadata": {
        "id": "M6Wh4EdCcrFW",
        "colab_type": "code",
        "outputId": "ba9686f4-352d-4757-c009-5218cfce4228",
        "colab": {
          "base_uri": "https://localhost:8080/",
          "height": 286
        }
      },
      "source": [
        "my_file.plot()"
      ],
      "execution_count": 0,
      "outputs": [
        {
          "output_type": "execute_result",
          "data": {
            "text/plain": [
              "<matplotlib.axes._subplots.AxesSubplot at 0x7f988ddd1eb8>"
            ]
          },
          "metadata": {
            "tags": []
          },
          "execution_count": 3
        },
        {
          "output_type": "display_data",
          "data": {
            "image/png": "[encoded data removed]",
            "text/plain": [
              "<Figure size 432x288 with 1 Axes>"
            ]
          },
          "metadata": {
            "tags": []
          }
        }
      ]
    },
    {
      "cell_type": "code",
      "metadata": {
        "id": "G4T3XAEKdKWo",
        "colab_type": "code",
        "outputId": "96a2090e-6b41-4efe-a4e1-1e9032af9342",
        "colab": {
          "base_uri": "https://localhost:8080/",
          "height": 297
        }
      },
      "source": [
        "my_file.describe()"
      ],
      "execution_count": 0,
      "outputs": [
        {
          "output_type": "execute_result",
          "data": {
            "text/html": [
              "<div>\n",
              "<style scoped>\n",
              "    .dataframe tbody tr th:only-of-type {\n",
              "        vertical-align: middle;\n",
              "    }\n",
              "\n",
              "    .dataframe tbody tr th {\n",
              "        vertical-align: top;\n",
              "    }\n",
              "\n",
              "    .dataframe thead th {\n",
              "        text-align: right;\n",
              "    }\n",
              "</style>\n",
              "<table border=\"1\" class=\"dataframe\">\n",
              "  <thead>\n",
              "    <tr style=\"text-align: right;\">\n",
              "      <th></th>\n",
              "      <th>Fremont Bridge East Sidewalk</th>\n",
              "      <th>Fremont Bridge West Sidewalk</th>\n",
              "    </tr>\n",
              "  </thead>\n",
              "  <tbody>\n",
              "    <tr>\n",
              "      <th>count</th>\n",
              "      <td>61287.000000</td>\n",
              "      <td>61287.000000</td>\n",
              "    </tr>\n",
              "    <tr>\n",
              "      <th>mean</th>\n",
              "      <td>52.894790</td>\n",
              "      <td>61.444874</td>\n",
              "    </tr>\n",
              "    <tr>\n",
              "      <th>std</th>\n",
              "      <td>67.815951</td>\n",
              "      <td>89.875981</td>\n",
              "    </tr>\n",
              "    <tr>\n",
              "      <th>min</th>\n",
              "      <td>0.000000</td>\n",
              "      <td>0.000000</td>\n",
              "    </tr>\n",
              "    <tr>\n",
              "      <th>25%</th>\n",
              "      <td>7.000000</td>\n",
              "      <td>7.000000</td>\n",
              "    </tr>\n",
              "    <tr>\n",
              "      <th>50%</th>\n",
              "      <td>29.000000</td>\n",
              "      <td>30.000000</td>\n",
              "    </tr>\n",
              "    <tr>\n",
              "      <th>75%</th>\n",
              "      <td>71.000000</td>\n",
              "      <td>74.000000</td>\n",
              "    </tr>\n",
              "    <tr>\n",
              "      <th>max</th>\n",
              "      <td>698.000000</td>\n",
              "      <td>850.000000</td>\n",
              "    </tr>\n",
              "  </tbody>\n",
              "</table>\n",
              "</div>"
            ],
            "text/plain": [
              "       Fremont Bridge East Sidewalk  Fremont Bridge West Sidewalk\n",
              "count                  61287.000000                  61287.000000\n",
              "mean                      52.894790                     61.444874\n",
              "std                       67.815951                     89.875981\n",
              "min                        0.000000                      0.000000\n",
              "25%                        7.000000                      7.000000\n",
              "50%                       29.000000                     30.000000\n",
              "75%                       71.000000                     74.000000\n",
              "max                      698.000000                    850.000000"
            ]
          },
          "metadata": {
            "tags": []
          },
          "execution_count": 4
        }
      ]
    },
    {
      "cell_type": "code",
      "metadata": {
        "id": "Sc-x_rW5dUSs",
        "colab_type": "code",
        "outputId": "d9c4f00b-1fa2-47ef-d717-5dedda11c89f",
        "colab": {
          "base_uri": "https://localhost:8080/",
          "height": 34
        }
      },
      "source": [
        "my_file.columns"
      ],
      "execution_count": 0,
      "outputs": [
        {
          "output_type": "execute_result",
          "data": {
            "text/plain": [
              "Index(['Date', 'Fremont Bridge East Sidewalk', 'Fremont Bridge West Sidewalk'], dtype='object')"
            ]
          },
          "metadata": {
            "tags": []
          },
          "execution_count": 6
        }
      ]
    },
    {
      "cell_type": "code",
      "metadata": {
        "id": "N-Ld1LQJd3AZ",
        "colab_type": "code",
        "outputId": "ef9694fc-fa7b-4431-827f-cca1b90f3e43",
        "colab": {
          "base_uri": "https://localhost:8080/",
          "height": 34
        }
      },
      "source": [
        "my_file.index.dtype"
      ],
      "execution_count": 0,
      "outputs": [
        {
          "output_type": "execute_result",
          "data": {
            "text/plain": [
              "dtype('int64')"
            ]
          },
          "metadata": {
            "tags": []
          },
          "execution_count": 11
        }
      ]
    },
    {
      "cell_type": "code",
      "metadata": {
        "id": "nlBF-uiGflKJ",
        "colab_type": "code",
        "outputId": "6e9bc1a4-6799-4a9a-e163-9a8fad6611a2",
        "colab": {
          "base_uri": "https://localhost:8080/",
          "height": 34
        }
      },
      "source": [
        "from datetime import datetime\n",
        "from dateutil import parser\n",
        "my_file_fixed = pd.read_csv(\"https://raw.githubusercontent.com/vfp1/bts-mbds-data-science-foundations-2019/master/sessions/data/Fremont_Bridge_Hourly_Bicycle_Counts_by_Month_October_2012_to_present.csv\", index_col=\"Date\", parse_dates=True)\n",
        "my_file_fixed.index.dtype"
      ],
      "execution_count": 0,
      "outputs": [
        {
          "output_type": "execute_result",
          "data": {
            "text/plain": [
              "dtype('<M8[ns]')"
            ]
          },
          "metadata": {
            "tags": []
          },
          "execution_count": 19
        }
      ]
    },
    {
      "cell_type": "code",
      "metadata": {
        "id": "ovsHdNRljZDW",
        "colab_type": "code",
        "outputId": "aa7354f7-ccdf-4845-f9f7-eba2a50873a6",
        "colab": {
          "base_uri": "https://localhost:8080/",
          "height": 221
        }
      },
      "source": [
        "my_file_fixed.index"
      ],
      "execution_count": 0,
      "outputs": [
        {
          "output_type": "execute_result",
          "data": {
            "text/plain": [
              "DatetimeIndex(['2015-02-24 02:00:00', '2019-01-01 00:00:00',\n",
              "               '2019-01-01 01:00:00', '2016-02-15 00:00:00',\n",
              "               '2019-01-01 02:00:00', '2019-01-01 03:00:00',\n",
              "               '2019-01-01 04:00:00', '2019-01-01 05:00:00',\n",
              "               '2019-01-01 06:00:00', '2019-01-01 07:00:00',\n",
              "               ...\n",
              "               '2017-11-28 19:00:00', '2017-06-20 20:00:00',\n",
              "               '2016-04-22 22:00:00', '2015-11-21 16:00:00',\n",
              "               '2012-10-17 14:00:00', '2013-12-12 05:00:00',\n",
              "               '2013-07-19 21:00:00', '2018-05-18 19:00:00',\n",
              "               '2014-12-04 07:00:00', '2013-10-01 04:00:00'],\n",
              "              dtype='datetime64[ns]', name='Date', length=61296, freq=None)"
            ]
          },
          "metadata": {
            "tags": []
          },
          "execution_count": 20
        }
      ]
    },
    {
      "cell_type": "code",
      "metadata": {
        "id": "kgmKS8lYkED3",
        "colab_type": "code",
        "outputId": "f1c99042-dd7c-4b3a-b792-a45266decef5",
        "colab": {
          "base_uri": "https://localhost:8080/",
          "height": 300
        }
      },
      "source": [
        "import numpy as np\n",
        "by_time = my_file_fixed.groupby(my_file_fixed.index.time).mean()\n",
        "hourly_ticks = 4 * 60 * 60 * np.arange(7)\n",
        "by_time.plot(xticks=hourly_ticks)"
      ],
      "execution_count": 0,
      "outputs": [
        {
          "output_type": "execute_result",
          "data": {
            "text/plain": [
              "<matplotlib.axes._subplots.AxesSubplot at 0x7f988a7fbb70>"
            ]
          },
          "metadata": {
            "tags": []
          },
          "execution_count": 46
        },
        {
          "output_type": "display_data",
          "data": {
            "image/png": "[encoded data removed]",
            "text/plain": [
              "<Figure size 432x288 with 1 Axes>"
            ]
          },
          "metadata": {
            "tags": []
          }
        }
      ]
    },
    {
      "cell_type": "code",
      "metadata": {
        "id": "eSAxkzuipjEr",
        "colab_type": "code",
        "outputId": "e43a01b5-cc60-452c-de74-e2767c92c2b1",
        "colab": {
          "base_uri": "https://localhost:8080/",
          "height": 300
        }
      },
      "source": [
        "by_day = my_file_fixed.groupby(my_file_fixed.index.weekday).mean()\n",
        "by_day.plot()"
      ],
      "execution_count": 0,
      "outputs": [
        {
          "output_type": "execute_result",
          "data": {
            "text/plain": [
              "<matplotlib.axes._subplots.AxesSubplot at 0x7f988a8c87f0>"
            ]
          },
          "metadata": {
            "tags": []
          },
          "execution_count": 48
        },
        {
          "output_type": "display_data",
          "data": {
            "image/png": "[encoded data removed]",
            "text/plain": [
              "<Figure size 432x288 with 1 Axes>"
            ]
          },
          "metadata": {
            "tags": []
          }
        }
      ]
    },
    {
      "cell_type": "markdown",
      "metadata": {
        "id": "MN5AFogOoJ66",
        "colab_type": "text"
      },
      "source": [
        ""
      ]
    },
    {
      "cell_type": "markdown",
      "metadata": {
        "id": "E5sKvTr0nKHY",
        "colab_type": "text"
      },
      "source": [
        "-THE BUSIEST TIME STARTS AT 4:00PM \\\n",
        "-BY WATCHING THE MEAN ON BOTH SIDEWALKS, LEFT SIDEWALK HAS LESS PEOPLE \\\n",
        "-ON BUSINESS DAYS, THE BEST DAY IS ON FRIDAY ON THE EAST SIDEWALK \\\n",
        "-BETWEEN 6:00-10:00 IT IS BETTER TO USE THE EAST SIDEWALK, WHILE DURING 15:00-20:00 IT IS BETTER TO USE THE WEST SIDEWALK"
      ]
    },
    {
      "cell_type": "code",
      "metadata": {
        "id": "Zesaf4JFCo_t",
        "colab_type": "code",
        "colab": {}
      },
      "source": [
        ""
      ],
      "execution_count": 0,
      "outputs": []
    },
    {
      "cell_type": "markdown",
      "metadata": {
        "id": "kRIP0xZeYrvn",
        "colab_type": "text"
      },
      "source": [
        "# Exercise 3: let's get rich! [OPTIONAL]\n",
        "\n",
        "Given this apple stock history [this dataset](https://github.com/vfp1/bts-mbds-data-science-foundations-2019/raw/master/sessions/data/appl_1980_2014.csv)\n",
        "\n",
        "* Open the dataset using Pandas\n",
        "* Display the DataFrame\n",
        "* Reply to the following questions (either by plotting the graph and summarizing the values):\n",
        "\n",
        "    * How much money will you have now if you bought 10 stocks for Apple at the end of January 2000 and you sold it at the end of 2013\n",
        "    * When was the peak maximum of volume of trades done?\n",
        "    * When was the month with the lowest close?\n",
        "    * And the lowest close of the day in the whole dataset?"
      ]
    },
    {
      "cell_type": "code",
      "metadata": {
        "id": "voo7sC6Q7LfK",
        "colab_type": "code",
        "outputId": "cd535300-9d82-480f-8cb9-c273d783cfbd",
        "colab": {
          "base_uri": "https://localhost:8080/",
          "height": 34
        }
      },
      "source": [
        "from datetime import datetime\n",
        "from dateutil import parser\n",
        "file = pd.read_csv(\"https://raw.githubusercontent.com/vfp1/bts-mbds-data-science-foundations-2019/master/sessions/data/appl_1980_2014.csv\", index_col=\"Date\", parse_dates=True)\n",
        "file.index.dtype"
      ],
      "execution_count": 0,
      "outputs": [
        {
          "output_type": "execute_result",
          "data": {
            "text/plain": [
              "dtype('<M8[ns]')"
            ]
          },
          "metadata": {
            "tags": []
          },
          "execution_count": 22
        }
      ]
    },
    {
      "cell_type": "code",
      "metadata": {
        "id": "2lH_-i1X7Xyt",
        "colab_type": "code",
        "outputId": "8a52b144-a84d-41c9-8464-13b56cb4c9f2",
        "colab": {
          "base_uri": "https://localhost:8080/",
          "height": 153
        }
      },
      "source": [
        "file.index"
      ],
      "execution_count": 0,
      "outputs": [
        {
          "output_type": "execute_result",
          "data": {
            "text/plain": [
              "DatetimeIndex(['2014-07-08', '2014-07-07', '2014-07-03', '2014-07-02',\n",
              "               '2014-07-01', '2014-06-30', '2014-06-27', '2014-06-26',\n",
              "               '2014-06-25', '2014-06-24',\n",
              "               ...\n",
              "               '1980-12-26', '1980-12-24', '1980-12-23', '1980-12-22',\n",
              "               '1980-12-19', '1980-12-18', '1980-12-17', '1980-12-16',\n",
              "               '1980-12-15', '1980-12-12'],\n",
              "              dtype='datetime64[ns]', name='Date', length=8465, freq=None)"
            ]
          },
          "metadata": {
            "tags": []
          },
          "execution_count": 23
        }
      ]
    },
    {
      "cell_type": "code",
      "metadata": {
        "id": "zLhuwITE8HIv",
        "colab_type": "code",
        "outputId": "45307adc-eb3a-4766-c3c5-2db927aa2213",
        "colab": {
          "base_uri": "https://localhost:8080/",
          "height": 297
        }
      },
      "source": [
        "file.plot()"
      ],
      "execution_count": 0,
      "outputs": [
        {
          "output_type": "execute_result",
          "data": {
            "text/plain": [
              "<matplotlib.axes._subplots.AxesSubplot at 0x7ff2e325d748>"
            ]
          },
          "metadata": {
            "tags": []
          },
          "execution_count": 31
        },
        {
          "output_type": "display_data",
          "data": {
            "image/png": "[encoded data removed]",
            "text/plain": [
              "<Figure size 432x288 with 1 Axes>"
            ]
          },
          "metadata": {
            "tags": []
          }
        }
      ]
    },
    {
      "cell_type": "code",
      "metadata": {
        "id": "noriUtG08JSy",
        "colab_type": "code",
        "outputId": "057ccecc-5480-47de-b8cb-e9b15851993c",
        "colab": {
          "base_uri": "https://localhost:8080/",
          "height": 111
        }
      },
      "source": [
        "file.loc[\"2000-1-31\"]"
      ],
      "execution_count": 0,
      "outputs": [
        {
          "output_type": "execute_result",
          "data": {
            "text/html": [
              "<div>\n",
              "<style scoped>\n",
              "    .dataframe tbody tr th:only-of-type {\n",
              "        vertical-align: middle;\n",
              "    }\n",
              "\n",
              "    .dataframe tbody tr th {\n",
              "        vertical-align: top;\n",
              "    }\n",
              "\n",
              "    .dataframe thead th {\n",
              "        text-align: right;\n",
              "    }\n",
              "</style>\n",
              "<table border=\"1\" class=\"dataframe\">\n",
              "  <thead>\n",
              "    <tr style=\"text-align: right;\">\n",
              "      <th></th>\n",
              "      <th>Open</th>\n",
              "      <th>High</th>\n",
              "      <th>Low</th>\n",
              "      <th>Close</th>\n",
              "      <th>Volume</th>\n",
              "      <th>Adj Close</th>\n",
              "    </tr>\n",
              "    <tr>\n",
              "      <th>Date</th>\n",
              "      <th></th>\n",
              "      <th></th>\n",
              "      <th></th>\n",
              "      <th></th>\n",
              "      <th></th>\n",
              "      <th></th>\n",
              "    </tr>\n",
              "  </thead>\n",
              "  <tbody>\n",
              "    <tr>\n",
              "      <th>2000-01-31</th>\n",
              "      <td>101.0</td>\n",
              "      <td>103.87</td>\n",
              "      <td>94.5</td>\n",
              "      <td>103.75</td>\n",
              "      <td>175420000</td>\n",
              "      <td>3.54</td>\n",
              "    </tr>\n",
              "  </tbody>\n",
              "</table>\n",
              "</div>"
            ],
            "text/plain": [
              "             Open    High   Low   Close     Volume  Adj Close\n",
              "Date                                                         \n",
              "2000-01-31  101.0  103.87  94.5  103.75  175420000       3.54"
            ]
          },
          "metadata": {
            "tags": []
          },
          "execution_count": 34
        }
      ]
    },
    {
      "cell_type": "code",
      "metadata": {
        "id": "YW6BW5Pm8V_n",
        "colab_type": "code",
        "outputId": "8488cbdd-6323-4595-b7b3-26a7fb7ade4e",
        "colab": {
          "base_uri": "https://localhost:8080/",
          "height": 111
        }
      },
      "source": [
        "file.loc[\"2013-12-31\"]"
      ],
      "execution_count": 0,
      "outputs": [
        {
          "output_type": "execute_result",
          "data": {
            "text/html": [
              "<div>\n",
              "<style scoped>\n",
              "    .dataframe tbody tr th:only-of-type {\n",
              "        vertical-align: middle;\n",
              "    }\n",
              "\n",
              "    .dataframe tbody tr th {\n",
              "        vertical-align: top;\n",
              "    }\n",
              "\n",
              "    .dataframe thead th {\n",
              "        text-align: right;\n",
              "    }\n",
              "</style>\n",
              "<table border=\"1\" class=\"dataframe\">\n",
              "  <thead>\n",
              "    <tr style=\"text-align: right;\">\n",
              "      <th></th>\n",
              "      <th>Open</th>\n",
              "      <th>High</th>\n",
              "      <th>Low</th>\n",
              "      <th>Close</th>\n",
              "      <th>Volume</th>\n",
              "      <th>Adj Close</th>\n",
              "    </tr>\n",
              "    <tr>\n",
              "      <th>Date</th>\n",
              "      <th></th>\n",
              "      <th></th>\n",
              "      <th></th>\n",
              "      <th></th>\n",
              "      <th></th>\n",
              "      <th></th>\n",
              "    </tr>\n",
              "  </thead>\n",
              "  <tbody>\n",
              "    <tr>\n",
              "      <th>2013-12-31</th>\n",
              "      <td>554.17</td>\n",
              "      <td>561.28</td>\n",
              "      <td>554.0</td>\n",
              "      <td>561.02</td>\n",
              "      <td>55771100</td>\n",
              "      <td>79.23</td>\n",
              "    </tr>\n",
              "  </tbody>\n",
              "</table>\n",
              "</div>"
            ],
            "text/plain": [
              "              Open    High    Low   Close    Volume  Adj Close\n",
              "Date                                                          \n",
              "2013-12-31  554.17  561.28  554.0  561.02  55771100      79.23"
            ]
          },
          "metadata": {
            "tags": []
          },
          "execution_count": 35
        }
      ]
    },
    {
      "cell_type": "code",
      "metadata": {
        "id": "kq-7dmTJBhF1",
        "colab_type": "code",
        "colab": {}
      },
      "source": [
        "# If I bought 10 stocks on 2000-1-31, I spent 1037.5; If I later sell them on 2013-12-31,\n",
        "# they would cost 5610.2. A difference of 4572.7"
      ],
      "execution_count": 0,
      "outputs": []
    },
    {
      "cell_type": "code",
      "metadata": {
        "id": "4tnX9cx0CdlL",
        "colab_type": "code",
        "outputId": "fc888eb9-1695-4720-9b3a-1046ead65ad9",
        "colab": {
          "base_uri": "https://localhost:8080/",
          "height": 34
        }
      },
      "source": [
        "file.columns"
      ],
      "execution_count": 0,
      "outputs": [
        {
          "output_type": "execute_result",
          "data": {
            "text/plain": [
              "Index(['Open', 'High', 'Low', 'Close', 'Volume', 'Adj Close'], dtype='object')"
            ]
          },
          "metadata": {
            "tags": []
          },
          "execution_count": 36
        }
      ]
    },
    {
      "cell_type": "code",
      "metadata": {
        "id": "hQyQWQ1nCez1",
        "colab_type": "code",
        "outputId": "cd45fad0-ce43-4075-b85d-a89eb4c0756e",
        "colab": {
          "base_uri": "https://localhost:8080/",
          "height": 297
        }
      },
      "source": [
        "file.describe()"
      ],
      "execution_count": 0,
      "outputs": [
        {
          "output_type": "execute_result",
          "data": {
            "text/html": [
              "<div>\n",
              "<style scoped>\n",
              "    .dataframe tbody tr th:only-of-type {\n",
              "        vertical-align: middle;\n",
              "    }\n",
              "\n",
              "    .dataframe tbody tr th {\n",
              "        vertical-align: top;\n",
              "    }\n",
              "\n",
              "    .dataframe thead th {\n",
              "        text-align: right;\n",
              "    }\n",
              "</style>\n",
              "<table border=\"1\" class=\"dataframe\">\n",
              "  <thead>\n",
              "    <tr style=\"text-align: right;\">\n",
              "      <th></th>\n",
              "      <th>Open</th>\n",
              "      <th>High</th>\n",
              "      <th>Low</th>\n",
              "      <th>Close</th>\n",
              "      <th>Volume</th>\n",
              "      <th>Adj Close</th>\n",
              "    </tr>\n",
              "  </thead>\n",
              "  <tbody>\n",
              "    <tr>\n",
              "      <th>count</th>\n",
              "      <td>8465.000000</td>\n",
              "      <td>8465.000000</td>\n",
              "      <td>8465.000000</td>\n",
              "      <td>8465.000000</td>\n",
              "      <td>8.465000e+03</td>\n",
              "      <td>8465.000000</td>\n",
              "    </tr>\n",
              "    <tr>\n",
              "      <th>mean</th>\n",
              "      <td>98.593926</td>\n",
              "      <td>99.848683</td>\n",
              "      <td>97.226790</td>\n",
              "      <td>98.549199</td>\n",
              "      <td>9.391214e+07</td>\n",
              "      <td>11.095014</td>\n",
              "    </tr>\n",
              "    <tr>\n",
              "      <th>std</th>\n",
              "      <td>141.965350</td>\n",
              "      <td>143.155674</td>\n",
              "      <td>140.548326</td>\n",
              "      <td>141.877244</td>\n",
              "      <td>8.993202e+07</td>\n",
              "      <td>21.133016</td>\n",
              "    </tr>\n",
              "    <tr>\n",
              "      <th>min</th>\n",
              "      <td>11.120000</td>\n",
              "      <td>11.120000</td>\n",
              "      <td>11.000000</td>\n",
              "      <td>11.000000</td>\n",
              "      <td>2.504000e+05</td>\n",
              "      <td>0.170000</td>\n",
              "    </tr>\n",
              "    <tr>\n",
              "      <th>25%</th>\n",
              "      <td>25.750000</td>\n",
              "      <td>26.000000</td>\n",
              "      <td>25.120000</td>\n",
              "      <td>25.630000</td>\n",
              "      <td>3.704960e+07</td>\n",
              "      <td>0.900000</td>\n",
              "    </tr>\n",
              "    <tr>\n",
              "      <th>50%</th>\n",
              "      <td>40.750000</td>\n",
              "      <td>41.500000</td>\n",
              "      <td>40.000000</td>\n",
              "      <td>40.750000</td>\n",
              "      <td>6.636000e+07</td>\n",
              "      <td>1.410000</td>\n",
              "    </tr>\n",
              "    <tr>\n",
              "      <th>75%</th>\n",
              "      <td>79.500000</td>\n",
              "      <td>81.000000</td>\n",
              "      <td>78.740000</td>\n",
              "      <td>80.000000</td>\n",
              "      <td>1.177701e+08</td>\n",
              "      <td>8.660000</td>\n",
              "    </tr>\n",
              "    <tr>\n",
              "      <th>max</th>\n",
              "      <td>702.410000</td>\n",
              "      <td>705.070000</td>\n",
              "      <td>699.570000</td>\n",
              "      <td>702.100000</td>\n",
              "      <td>1.855410e+09</td>\n",
              "      <td>96.280000</td>\n",
              "    </tr>\n",
              "  </tbody>\n",
              "</table>\n",
              "</div>"
            ],
            "text/plain": [
              "              Open         High  ...        Volume    Adj Close\n",
              "count  8465.000000  8465.000000  ...  8.465000e+03  8465.000000\n",
              "mean     98.593926    99.848683  ...  9.391214e+07    11.095014\n",
              "std     141.965350   143.155674  ...  8.993202e+07    21.133016\n",
              "min      11.120000    11.120000  ...  2.504000e+05     0.170000\n",
              "25%      25.750000    26.000000  ...  3.704960e+07     0.900000\n",
              "50%      40.750000    41.500000  ...  6.636000e+07     1.410000\n",
              "75%      79.500000    81.000000  ...  1.177701e+08     8.660000\n",
              "max     702.410000   705.070000  ...  1.855410e+09    96.280000\n",
              "\n",
              "[8 rows x 6 columns]"
            ]
          },
          "metadata": {
            "tags": []
          },
          "execution_count": 37
        }
      ]
    },
    {
      "cell_type": "code",
      "metadata": {
        "id": "Wejq44xhCnVf",
        "colab_type": "code",
        "outputId": "cc72d834-ff46-49fb-fc55-ead317b752f7",
        "colab": {
          "base_uri": "https://localhost:8080/",
          "height": 290
        }
      },
      "source": [
        "file[\"Close\"].plot()"
      ],
      "execution_count": 0,
      "outputs": [
        {
          "output_type": "execute_result",
          "data": {
            "text/plain": [
              "<matplotlib.axes._subplots.AxesSubplot at 0x7ff2e0946320>"
            ]
          },
          "metadata": {
            "tags": []
          },
          "execution_count": 38
        },
        {
          "output_type": "display_data",
          "data": {
            "image/png": "[encoded data removed]",
            "text/plain": [
              "<Figure size 432x288 with 1 Axes>"
            ]
          },
          "metadata": {
            "tags": []
          }
        }
      ]
    },
    {
      "cell_type": "code",
      "metadata": {
        "id": "PPry7AUzC85Q",
        "colab_type": "code",
        "outputId": "2b7bce8a-0380-4c79-9440-64ea8ce4bffb",
        "colab": {
          "base_uri": "https://localhost:8080/",
          "height": 170
        }
      },
      "source": [
        "file[\"Volume\"].describe()"
      ],
      "execution_count": 0,
      "outputs": [
        {
          "output_type": "execute_result",
          "data": {
            "text/plain": [
              "count    8.465000e+03\n",
              "mean     9.391214e+07\n",
              "std      8.993202e+07\n",
              "min      2.504000e+05\n",
              "25%      3.704960e+07\n",
              "50%      6.636000e+07\n",
              "75%      1.177701e+08\n",
              "max      1.855410e+09\n",
              "Name: Volume, dtype: float64"
            ]
          },
          "metadata": {
            "tags": []
          },
          "execution_count": 39
        }
      ]
    },
    {
      "cell_type": "code",
      "metadata": {
        "id": "VFatDaIJIpT9",
        "colab_type": "code",
        "outputId": "cc85e9f8-5780-48e7-ca17-be99b521449f",
        "colab": {
          "base_uri": "https://localhost:8080/",
          "height": 34
        }
      },
      "source": [
        "import numpy as np\n",
        "y = np.where(file[\"Volume\"] == file[\"Volume\"].max())\n",
        "y"
      ],
      "execution_count": 0,
      "outputs": [
        {
          "output_type": "execute_result",
          "data": {
            "text/plain": [
              "(array([3461]),)"
            ]
          },
          "metadata": {
            "tags": []
          },
          "execution_count": 56
        }
      ]
    },
    {
      "cell_type": "code",
      "metadata": {
        "id": "y93HpLZsJNOj",
        "colab_type": "code",
        "outputId": "9968da48-57f1-497a-8385-bcb405a5e61f",
        "colab": {
          "base_uri": "https://localhost:8080/",
          "height": 136
        }
      },
      "source": [
        "file.iloc[3461]"
      ],
      "execution_count": 0,
      "outputs": [
        {
          "output_type": "execute_result",
          "data": {
            "text/plain": [
              "Open         2.819000e+01\n",
              "High         2.900000e+01\n",
              "Low          2.538000e+01\n",
              "Close        2.575000e+01\n",
              "Volume       1.855410e+09\n",
              "Adj Close    1.760000e+00\n",
              "Name: 2000-09-29 00:00:00, dtype: float64"
            ]
          },
          "metadata": {
            "tags": []
          },
          "execution_count": 57
        }
      ]
    },
    {
      "cell_type": "code",
      "metadata": {
        "id": "Q0Pza20qJbU7",
        "colab_type": "code",
        "colab": {}
      },
      "source": [
        "# 2000-09-29 was the day with the highest volumes of trades done"
      ],
      "execution_count": 0,
      "outputs": []
    },
    {
      "cell_type": "code",
      "metadata": {
        "id": "gDa-lJLPDIJ0",
        "colab_type": "code",
        "colab": {}
      },
      "source": [
        "by_month = file.groupby(file.index.year).mean()"
      ],
      "execution_count": 0,
      "outputs": []
    },
    {
      "cell_type": "code",
      "metadata": {
        "id": "BwC3jmK6DksJ",
        "colab_type": "code",
        "outputId": "e1a93d45-be1a-467e-f717-497be132e5a3",
        "colab": {
          "base_uri": "https://localhost:8080/",
          "height": 170
        }
      },
      "source": [
        "by_month[\"Close\"].describe()"
      ],
      "execution_count": 0,
      "outputs": [
        {
          "output_type": "execute_result",
          "data": {
            "text/plain": [
              "count     12.000000\n",
              "mean      98.549997\n",
              "std        4.687469\n",
              "min       90.778393\n",
              "25%       95.975439\n",
              "50%       97.957290\n",
              "75%      100.122925\n",
              "max      108.518287\n",
              "Name: Close, dtype: float64"
            ]
          },
          "metadata": {
            "tags": []
          },
          "execution_count": 45
        }
      ]
    },
    {
      "cell_type": "code",
      "metadata": {
        "id": "srcpw9n2FUda",
        "colab_type": "code",
        "outputId": "7ad0392a-96aa-48f5-9f43-036045eefd6a",
        "colab": {
          "base_uri": "https://localhost:8080/",
          "height": 34
        }
      },
      "source": [
        "import numpy as np\n",
        "x = np.where(by_month[\"Close\"] == by_month[\"Close\"].min())\n",
        "x"
      ],
      "execution_count": 0,
      "outputs": [
        {
          "output_type": "execute_result",
          "data": {
            "text/plain": [
              "(array([6]),)"
            ]
          },
          "metadata": {
            "tags": []
          },
          "execution_count": 58
        }
      ]
    },
    {
      "cell_type": "code",
      "metadata": {
        "id": "ZurNj0aaFxTf",
        "colab_type": "code",
        "outputId": "87c9f5d2-48aa-46ab-8a77-dbe4b18b5acf",
        "colab": {
          "base_uri": "https://localhost:8080/",
          "height": 136
        }
      },
      "source": [
        "by_month.iloc[6]"
      ],
      "execution_count": 0,
      "outputs": [
        {
          "output_type": "execute_result",
          "data": {
            "text/plain": [
              "Open         9.070321e+01\n",
              "High         9.191286e+01\n",
              "Low          8.947856e+01\n",
              "Close        9.077839e+01\n",
              "Volume       8.920390e+07\n",
              "Adj Close    1.062394e+01\n",
              "Name: 7, dtype: float64"
            ]
          },
          "metadata": {
            "tags": []
          },
          "execution_count": 59
        }
      ]
    },
    {
      "cell_type": "code",
      "metadata": {
        "id": "pX9-0E6PF4N9",
        "colab_type": "code",
        "outputId": "caba8488-153b-44c2-fdae-2e4fcaf241bc",
        "colab": {
          "base_uri": "https://localhost:8080/",
          "height": 136
        }
      },
      "source": [
        "by_month.loc[7]"
      ],
      "execution_count": 0,
      "outputs": [
        {
          "output_type": "execute_result",
          "data": {
            "text/plain": [
              "Open         9.070321e+01\n",
              "High         9.191286e+01\n",
              "Low          8.947856e+01\n",
              "Close        9.077839e+01\n",
              "Volume       8.920390e+07\n",
              "Adj Close    1.062394e+01\n",
              "Name: 7, dtype: float64"
            ]
          },
          "metadata": {
            "tags": []
          },
          "execution_count": 61
        }
      ]
    },
    {
      "cell_type": "code",
      "metadata": {
        "id": "r4kd5xWtILYg",
        "colab_type": "code",
        "colab": {}
      },
      "source": [
        ""
      ],
      "execution_count": 0,
      "outputs": []
    },
    {
      "cell_type": "code",
      "metadata": {
        "id": "m1Dj0DKZKrS9",
        "colab_type": "code",
        "outputId": "f564f3b1-0423-4e34-da1a-727c347c38a1",
        "colab": {
          "base_uri": "https://localhost:8080/",
          "height": 297
        }
      },
      "source": [
        "file.describe()"
      ],
      "execution_count": 0,
      "outputs": [
        {
          "output_type": "execute_result",
          "data": {
            "text/html": [
              "<div>\n",
              "<style scoped>\n",
              "    .dataframe tbody tr th:only-of-type {\n",
              "        vertical-align: middle;\n",
              "    }\n",
              "\n",
              "    .dataframe tbody tr th {\n",
              "        vertical-align: top;\n",
              "    }\n",
              "\n",
              "    .dataframe thead th {\n",
              "        text-align: right;\n",
              "    }\n",
              "</style>\n",
              "<table border=\"1\" class=\"dataframe\">\n",
              "  <thead>\n",
              "    <tr style=\"text-align: right;\">\n",
              "      <th></th>\n",
              "      <th>Open</th>\n",
              "      <th>High</th>\n",
              "      <th>Low</th>\n",
              "      <th>Close</th>\n",
              "      <th>Volume</th>\n",
              "      <th>Adj Close</th>\n",
              "    </tr>\n",
              "  </thead>\n",
              "  <tbody>\n",
              "    <tr>\n",
              "      <th>count</th>\n",
              "      <td>8465.000000</td>\n",
              "      <td>8465.000000</td>\n",
              "      <td>8465.000000</td>\n",
              "      <td>8465.000000</td>\n",
              "      <td>8.465000e+03</td>\n",
              "      <td>8465.000000</td>\n",
              "    </tr>\n",
              "    <tr>\n",
              "      <th>mean</th>\n",
              "      <td>98.593926</td>\n",
              "      <td>99.848683</td>\n",
              "      <td>97.226790</td>\n",
              "      <td>98.549199</td>\n",
              "      <td>9.391214e+07</td>\n",
              "      <td>11.095014</td>\n",
              "    </tr>\n",
              "    <tr>\n",
              "      <th>std</th>\n",
              "      <td>141.965350</td>\n",
              "      <td>143.155674</td>\n",
              "      <td>140.548326</td>\n",
              "      <td>141.877244</td>\n",
              "      <td>8.993202e+07</td>\n",
              "      <td>21.133016</td>\n",
              "    </tr>\n",
              "    <tr>\n",
              "      <th>min</th>\n",
              "      <td>11.120000</td>\n",
              "      <td>11.120000</td>\n",
              "      <td>11.000000</td>\n",
              "      <td>11.000000</td>\n",
              "      <td>2.504000e+05</td>\n",
              "      <td>0.170000</td>\n",
              "    </tr>\n",
              "    <tr>\n",
              "      <th>25%</th>\n",
              "      <td>25.750000</td>\n",
              "      <td>26.000000</td>\n",
              "      <td>25.120000</td>\n",
              "      <td>25.630000</td>\n",
              "      <td>3.704960e+07</td>\n",
              "      <td>0.900000</td>\n",
              "    </tr>\n",
              "    <tr>\n",
              "      <th>50%</th>\n",
              "      <td>40.750000</td>\n",
              "      <td>41.500000</td>\n",
              "      <td>40.000000</td>\n",
              "      <td>40.750000</td>\n",
              "      <td>6.636000e+07</td>\n",
              "      <td>1.410000</td>\n",
              "    </tr>\n",
              "    <tr>\n",
              "      <th>75%</th>\n",
              "      <td>79.500000</td>\n",
              "      <td>81.000000</td>\n",
              "      <td>78.740000</td>\n",
              "      <td>80.000000</td>\n",
              "      <td>1.177701e+08</td>\n",
              "      <td>8.660000</td>\n",
              "    </tr>\n",
              "    <tr>\n",
              "      <th>max</th>\n",
              "      <td>702.410000</td>\n",
              "      <td>705.070000</td>\n",
              "      <td>699.570000</td>\n",
              "      <td>702.100000</td>\n",
              "      <td>1.855410e+09</td>\n",
              "      <td>96.280000</td>\n",
              "    </tr>\n",
              "  </tbody>\n",
              "</table>\n",
              "</div>"
            ],
            "text/plain": [
              "              Open         High  ...        Volume    Adj Close\n",
              "count  8465.000000  8465.000000  ...  8.465000e+03  8465.000000\n",
              "mean     98.593926    99.848683  ...  9.391214e+07    11.095014\n",
              "std     141.965350   143.155674  ...  8.993202e+07    21.133016\n",
              "min      11.120000    11.120000  ...  2.504000e+05     0.170000\n",
              "25%      25.750000    26.000000  ...  3.704960e+07     0.900000\n",
              "50%      40.750000    41.500000  ...  6.636000e+07     1.410000\n",
              "75%      79.500000    81.000000  ...  1.177701e+08     8.660000\n",
              "max     702.410000   705.070000  ...  1.855410e+09    96.280000\n",
              "\n",
              "[8 rows x 6 columns]"
            ]
          },
          "metadata": {
            "tags": []
          },
          "execution_count": 62
        }
      ]
    },
    {
      "cell_type": "code",
      "metadata": {
        "id": "HXvjdNPtLH8q",
        "colab_type": "code",
        "outputId": "2021c5d3-8f17-4f7a-817a-d90e578d63b1",
        "colab": {
          "base_uri": "https://localhost:8080/",
          "height": 34
        }
      },
      "source": [
        "import numpy as np\n",
        "z = np.where(file[\"Close\"] == file[\"Close\"].min())\n",
        "z"
      ],
      "execution_count": 0,
      "outputs": [
        {
          "output_type": "execute_result",
          "data": {
            "text/plain": [
              "(array([8070]),)"
            ]
          },
          "metadata": {
            "tags": []
          },
          "execution_count": 63
        }
      ]
    },
    {
      "cell_type": "code",
      "metadata": {
        "id": "2bJOCJDBL0IA",
        "colab_type": "code",
        "outputId": "972280fa-5958-49cf-9b25-891457da1739",
        "colab": {
          "base_uri": "https://localhost:8080/",
          "height": 136
        }
      },
      "source": [
        "file.iloc[8070]"
      ],
      "execution_count": 0,
      "outputs": [
        {
          "output_type": "execute_result",
          "data": {
            "text/plain": [
              "Open               11.12\n",
              "High               11.12\n",
              "Low                11.00\n",
              "Close              11.00\n",
              "Volume       41081600.00\n",
              "Adj Close           0.17\n",
              "Name: 1982-07-08 00:00:00, dtype: float64"
            ]
          },
          "metadata": {
            "tags": []
          },
          "execution_count": 64
        }
      ]
    },
    {
      "cell_type": "code",
      "metadata": {
        "id": "DU7LVJhEL22Y",
        "colab_type": "code",
        "colab": {}
      },
      "source": [
        "#1982-07-08 was the day with the lowest close"
      ],
      "execution_count": 0,
      "outputs": []
    },
    {
      "cell_type": "code",
      "metadata": {
        "id": "4DTtdmzaL8O0",
        "colab_type": "code",
        "colab": {}
      },
      "source": [
        "#July of 1982 was the month with the lowest close"
      ],
      "execution_count": 0,
      "outputs": []
    }
  ]
}